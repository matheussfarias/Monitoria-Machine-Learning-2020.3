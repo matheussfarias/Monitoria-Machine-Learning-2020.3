{
 "cells": [
  {
   "cell_type": "markdown",
   "metadata": {},
   "source": [
    "# **Particle Swarm Optimization**"
   ]
  },
  {
   "cell_type": "markdown",
   "metadata": {},
   "source": [
    "Hoje a gente vai aprender a otimizar funções utilizando o algoritmo **Particle Swarm Optimization** (PSO)"
   ]
  },
  {
   "cell_type": "markdown",
   "metadata": {},
   "source": [
    "## **Motivação**"
   ]
  },
  {
   "cell_type": "markdown",
   "metadata": {},
   "source": [
    "Quando se utiliza algoritmos de machine learning, sempre se tem hiperparâmetros associados, e é um desafio saber se os hiperparâmetros usados para determinadas aplicações foi feito de maneira ótima."
   ]
  },
  {
   "cell_type": "markdown",
   "metadata": {},
   "source": [
    "E, na verdade, não existe um algoritmo melhor, aquele que vai sobressair em todas as ocasiões em relação aos outros, então tem-se o desafio de, além de escolher o algoritmo adequado, escolher os hiperparâmetros adequados, normalmente se chama esse desafio de teorema **No Free Lunch**."
   ]
  },
  {
   "cell_type": "markdown",
   "metadata": {},
   "source": [
    "Sendo assim, é importante que a gente sempre teste vários algoritmos, e que a gente consiga tirar o máximo deles, então ter a possibilidade de otimizar hiperparâmetros é algo extremamente útil na área, e um dos algoritmos utilizados para isso é o PSO."
   ]
  },
  {
   "cell_type": "markdown",
   "metadata": {},
   "source": [
    "## **Historinha**"
   ]
  },
  {
   "cell_type": "markdown",
   "metadata": {},
   "source": [
    "Proposto por Kennedy e Eberhart em 1995 [neste paper](https://ieeexplore.ieee.org/document/488968) (**leia**), o PSO é inspirado pelo comportamento social e cooperativo exibido por várias espécies de forma a realizar as suas necessidades no espaço de busca. Além disso, PSO é uma meta-heurística, pois realiza poucas ou nenhumas premissas sobre o problema que está a ser otimizado e pode procurar soluções candidatas em espaços de grandes dimensões. No entanto, algumas meta-heurísticas como PSO não garantem que uma solução ideal seja encontrada. "
   ]
  },
  {
   "cell_type": "markdown",
   "metadata": {},
   "source": [
    "Em termos gerais, o algoritmo guia-se por experiência pessoal (**Pbest**), experiência geral (**Gbest**) e o movimento das partículas atual para decidir as posições seguintes no espaço de pesquisa. O PSO resolve um problema criando uma população de soluções candidatas, também conhecidas como partículas, e movendo estas partículas em torno do espaço de pesquisa, de acordo com fórmulas matemáticas simples sobre a posição e velocidade da partícula. O movimento de cada partícula é influenciado pela sua posição do local mais conhecida, mas, também é guiado em direção às posições mais conhecidas do espaço de pesquisa, que são atualizadas como posições melhores quando encontradas por outras partículas. Isto é espectável, quando o intuito é mover o enxame em direção da melhor solução."
   ]
  },
  {
   "cell_type": "markdown",
   "metadata": {},
   "source": [
    "Diferente de algoritmos de otimização que se baseiam no uso de gradiente, como o algoritmo de Newton-Raphson, o PSO não requer nem que a função seja diferenciável (essa é a sua grande vantagem), basta que ela seja continua, e também não requer linearidade."
   ]
  },
  {
   "cell_type": "markdown",
   "metadata": {},
   "source": [
    "## **O Algoritmo**"
   ]
  },
  {
   "cell_type": "markdown",
   "metadata": {},
   "source": [
    "Imagine que você tenha um enxame de $n$ particulas, onde cada particula $i$, com $i=1, \\ldots, n$ é definida pela sua posição instantânea  $x_i(t)$ e sua velocidade instantânea $v_i(t)$. O vetor velocidade para o qual as partículas devem seguir é uma ponderação da experiência pessoal, ou seja, do melhor resultado que aquela partícula experienciou, e da experiência global, ou seja, do melhor resultado que o enxame todo experienciou, como mostrado na figura abaixo:"
   ]
  },
  {
   "cell_type": "markdown",
   "metadata": {},
   "source": [
    "<img src=\"pso1.png\" alt=\"Drawing\" style=\"width: 800px;\"/>"
   ]
  },
  {
   "cell_type": "markdown",
   "metadata": {},
   "source": [
    "Sendo assim, a expressão para a atualização da posição e da velocidade de cada particula é:"
   ]
  },
  {
   "cell_type": "markdown",
   "metadata": {},
   "source": [
    "$$v_{i+1}(t) = wv_i(t) + c_1r_1(Pbest_i(t) - x_i(t)) + c_2r_2(Gbest(t) - x_i(t))$$"
   ]
  },
  {
   "cell_type": "markdown",
   "metadata": {},
   "source": [
    "$$x_{i+1}(t) = x_i(t) + v_{i+1}(t)$$"
   ]
  },
  {
   "cell_type": "markdown",
   "metadata": {},
   "source": [
    "* A primeira componente, $wv_i(t)$ é chamada de **componente inercial**, e o $w$ é chamado de **constante inercial**\n",
    "* A segunda componente, $c_1r_1(Pbest_i(t) - x_i(t))$ é chamada de **componente cognitiva**\n",
    "* A terceira componente, $c_2r_2(Gbest(t) - x_i(t))$ é chamada de **componente social**\n",
    "* As constantes $c_1$ e $c_2$ são chamadas de **coeficientes de aceleração**\n",
    "* As variáveis $r_1$ e $r_2$ são valores aleatórios **uniformemente** distribúidos no intervalo $(0,1)$"
   ]
  },
  {
   "cell_type": "markdown",
   "metadata": {},
   "source": [
    "Lembre-se que além de escolher as variáveis citadas nos bullet points acima, é importante definir um **número de iterações máximo** para o PSO, bem como a **quantidade de indivíduos** que haverá na população. A critério de convergência, normalmente se coloca também o quanto cada passo variou no custo, ou seja, se variou pouco, considera-se que o algoritmo chegou no ponto ótimo."
   ]
  },
  {
   "cell_type": "markdown",
   "metadata": {},
   "source": [
    "## **Implementação**"
   ]
  },
  {
   "cell_type": "markdown",
   "metadata": {},
   "source": [
    "Recomendo que se faça uma implementação from scratch para aprender melhor sobre o algoritmo e também para que se tenha mais controle sobre ele, e ai brincando com a implementação se acaba aprendendo mais"
   ]
  },
  {
   "cell_type": "markdown",
   "metadata": {},
   "source": [
    "Nesse notebook, vou utilizar a biblioteca [pyswarm](https://pythonhosted.org/pyswarm/) a título de mostrar o funcionamento, que traz algumas limitações, mas a ideia é uma exposição rápida."
   ]
  },
  {
   "cell_type": "markdown",
   "metadata": {},
   "source": [
    "Primeiramente, vamos importar as bibliotecas usadas"
   ]
  },
  {
   "cell_type": "code",
   "execution_count": 116,
   "metadata": {},
   "outputs": [],
   "source": [
    "from pyswarm import pso\n",
    "import numpy as np\n",
    "import matplotlib.pyplot as plt\n",
    "%matplotlib inline"
   ]
  },
  {
   "cell_type": "markdown",
   "metadata": {},
   "source": [
    "### **Função sem restrições**"
   ]
  },
  {
   "cell_type": "markdown",
   "metadata": {},
   "source": [
    "Começaremos querendo encontrar o mínimo da função $f(x) = x^2$, sem nenhuma restrição, portanto, definimos:"
   ]
  },
  {
   "cell_type": "code",
   "execution_count": 132,
   "metadata": {},
   "outputs": [
    {
     "data": {
      "image/png": "[encoded data removed]",
      "text/plain": [
       "<Figure size 432x288 with 1 Axes>"
      ]
     },
     "metadata": {
      "needs_background": "light"
     },
     "output_type": "display_data"
    }
   ],
   "source": [
    "def squared(x):\n",
    "    return x**2\n",
    "\n",
    "lb = [-10]\n",
    "ub = [10]\n",
    "\n",
    "t = np.linspace(lb, ub)\n",
    "plt.plot(squared(t), color = 'red')\n",
    "plt.show()"
   ]
  },
  {
   "cell_type": "markdown",
   "metadata": {},
   "source": [
    "Agora, aplicando no PSO, tem-se:"
   ]
  },
  {
   "cell_type": "code",
   "execution_count": 133,
   "metadata": {},
   "outputs": [
    {
     "name": "stdout",
     "output_type": "stream",
     "text": [
      "No constraints given.\n",
      "Best after iteration 1: [0.04891517] 0.0023926943062295815\n",
      "Best after iteration 2: [0.04891517] 0.0023926943062295815\n",
      "Best after iteration 3: [0.04891517] 0.0023926943062295815\n",
      "Best after iteration 4: [0.04891517] 0.0023926943062295815\n",
      "New best for swarm at iteration 5: [-0.03599491] [0.00129563]\n",
      "New best for swarm at iteration 5: [-0.0113706] [0.00012929]\n",
      "Best after iteration 5: [-0.0113706] [0.00012929]\n",
      "Best after iteration 6: [-0.0113706] [0.00012929]\n",
      "New best for swarm at iteration 7: [0.00780665] [6.09438281e-05]\n",
      "Best after iteration 7: [0.00780665] [6.09438281e-05]\n",
      "Best after iteration 8: [0.00780665] [6.09438281e-05]\n",
      "Best after iteration 9: [0.00780665] [6.09438281e-05]\n",
      "New best for swarm at iteration 10: [-0.00597857] [3.57433299e-05]\n",
      "New best for swarm at iteration 10: [0.0051094] [2.61059461e-05]\n",
      "Best after iteration 10: [0.0051094] [2.61059461e-05]\n",
      "Best after iteration 11: [0.0051094] [2.61059461e-05]\n",
      "New best for swarm at iteration 12: [-0.00388351] [1.50816812e-05]\n",
      "New best for swarm at iteration 12: [-0.00245301] [6.01725518e-06]\n",
      "Best after iteration 12: [-0.00245301] [6.01725518e-06]\n",
      "New best for swarm at iteration 13: [0.00241398] [5.82731552e-06]\n",
      "Best after iteration 13: [0.00241398] [5.82731552e-06]\n",
      "New best for swarm at iteration 14: [0.00013993] [1.95800996e-08]\n",
      "Best after iteration 14: [0.00013993] [1.95800996e-08]\n",
      "Best after iteration 15: [0.00013993] [1.95800996e-08]\n",
      "Best after iteration 16: [0.00013993] [1.95800996e-08]\n",
      "Best after iteration 17: [0.00013993] [1.95800996e-08]\n",
      "New best for swarm at iteration 18: [-3.26210299e-05] [1.06413159e-09]\n",
      "Best after iteration 18: [-3.26210299e-05] [1.06413159e-09]\n",
      "Best after iteration 19: [-3.26210299e-05] [1.06413159e-09]\n",
      "Best after iteration 20: [-3.26210299e-05] [1.06413159e-09]\n",
      "New best for swarm at iteration 21: [-4.85621539e-06] [2.35828279e-11]\n",
      "Stopping search: Swarm best objective change less than 1e-08\n",
      "O x ótimo é [-4.85621539e-06], retornando um valor de f(x) = [2.35828279e-11]\n"
     ]
    }
   ],
   "source": [
    "xopt, fopt = pso(squared, lb, ub, debug = 1)\n",
    "print('O x ótimo é {}, retornando um valor de f(x) = {}' .format(xopt, fopt))"
   ]
  },
  {
   "cell_type": "markdown",
   "metadata": {},
   "source": [
    "### **Função com restrições**"
   ]
  },
  {
   "cell_type": "markdown",
   "metadata": {},
   "source": [
    "Agora, queremos encontrar o mínimo da função $f(x) = x$, com $x\\geq 0$, portanto, definimos:"
   ]
  },
  {
   "cell_type": "code",
   "execution_count": 119,
   "metadata": {},
   "outputs": [
    {
     "data": {
      "image/png": "[encoded data removed]",
      "text/plain": [
       "<Figure size 432x288 with 1 Axes>"
      ]
     },
     "metadata": {
      "needs_background": "light"
     },
     "output_type": "display_data"
    }
   ],
   "source": [
    "def line(x):\n",
    "    return x\n",
    "\n",
    "lb = [-10]\n",
    "ub = [10]\n",
    "\n",
    "def con(x):\n",
    "    return [x]\n",
    "\n",
    "t = np.linspace(lb, ub)\n",
    "plt.plot(line(t), color = 'red')\n",
    "plt.show()"
   ]
  },
  {
   "cell_type": "code",
   "execution_count": 120,
   "metadata": {},
   "outputs": [
    {
     "name": "stdout",
     "output_type": "stream",
     "text": [
      "Single constraint function given in f_ieqcons\n",
      "New best for swarm at iteration 1: [0.21506206] [0.21506206]\n",
      "Best after iteration 1: [0.21506206] [0.21506206]\n",
      "Best after iteration 2: [0.21506206] [-1.13011866]\n",
      "Best after iteration 3: [0.21506206] [-0.75213214]\n",
      "Best after iteration 4: [0.21506206] [-0.47056534]\n",
      "Best after iteration 5: [0.21506206] [-0.08493264]\n",
      "New best for swarm at iteration 6: [0.25665038] [0.25665038]\n",
      "Best after iteration 6: [0.25665038] [0.25665038]\n",
      "New best for swarm at iteration 7: [0.20157758] [0.20157758]\n",
      "New best for swarm at iteration 7: [0.03311602] [0.03311602]\n",
      "Best after iteration 7: [0.03311602] [0.03311602]\n",
      "New best for swarm at iteration 8: [0.0147587] [0.0147587]\n",
      "Best after iteration 8: [0.0147587] [0.0147587]\n",
      "New best for swarm at iteration 9: [0.00044969] [0.00044969]\n",
      "Best after iteration 9: [0.00044969] [0.00044969]\n",
      "Best after iteration 10: [0.00044969] [-0.18573412]\n",
      "Best after iteration 11: [0.00044969] [-0.14809943]\n",
      "Best after iteration 12: [0.00044969] [-0.06406735]\n",
      "Best after iteration 13: [0.00044969] [0.00649678]\n",
      "New best for swarm at iteration 14: [0.00127654] [0.00127654]\n",
      "New best for swarm at iteration 14: [0.00102166] [0.00102166]\n",
      "Best after iteration 14: [0.00102166] [0.00102166]\n",
      "New best for swarm at iteration 15: [0.00283659] [0.00283659]\n",
      "Best after iteration 15: [0.00283659] [0.00283659]\n",
      "New best for swarm at iteration 16: [7.77932915e-05] [7.77932915e-05]\n",
      "Best after iteration 16: [7.77932915e-05] [7.77932915e-05]\n",
      "Best after iteration 17: [7.77932915e-05] [-0.00664419]\n",
      "Best after iteration 18: [7.77932915e-05] [-0.00804344]\n",
      "Best after iteration 19: [7.77932915e-05] [-0.00186415]\n",
      "New best for swarm at iteration 20: [0.00137867] [0.00137867]\n",
      "New best for swarm at iteration 20: [0.00119388] [0.00119388]\n",
      "Best after iteration 20: [0.00119388] [0.00119388]\n",
      "New best for swarm at iteration 21: [0.00097658] [0.00097658]\n",
      "New best for swarm at iteration 21: [0.00067115] [0.00067115]\n",
      "Best after iteration 21: [0.00067115] [0.00067115]\n",
      "New best for swarm at iteration 22: [0.0006808] [0.0006808]\n",
      "New best for swarm at iteration 22: [0.00014852] [0.00014852]\n",
      "Best after iteration 22: [0.00014852] [0.00014852]\n",
      "Best after iteration 23: [0.00014852] [-0.00287833]\n",
      "Best after iteration 24: [0.00014852] [-0.00275799]\n",
      "Best after iteration 25: [0.00014852] [-0.00175111]\n",
      "Best after iteration 26: [0.00014852] [-0.00025885]\n",
      "New best for swarm at iteration 27: [0.00014914] [0.00014914]\n",
      "Best after iteration 27: [0.00014914] [0.00014914]\n",
      "Best after iteration 28: [0.00014914] [-0.00037196]\n",
      "Best after iteration 29: [0.00014914] [-0.00023563]\n",
      "Best after iteration 30: [0.00014914] [-9.52438857e-05]\n",
      "Best after iteration 31: [0.00014914] [0.00011511]\n",
      "New best for swarm at iteration 32: [8.73066215e-05] [8.73066215e-05]\n",
      "New best for swarm at iteration 32: [3.65941767e-06] [3.65941767e-06]\n",
      "Best after iteration 32: [3.65941767e-06] [3.65941767e-06]\n",
      "New best for swarm at iteration 33: [8.65406489e-06] [8.65406489e-06]\n",
      "New best for swarm at iteration 33: [4.47616325e-06] [4.47616325e-06]\n",
      "Best after iteration 33: [4.47616325e-06] [4.47616325e-06]\n",
      "New best for swarm at iteration 34: [3.58587975e-06] [3.58587975e-06]\n",
      "New best for swarm at iteration 34: [2.62024259e-06] [2.62024259e-06]\n",
      "New best for swarm at iteration 34: [2.28736126e-06] [2.28736126e-06]\n",
      "Best after iteration 34: [2.28736126e-06] [2.28736126e-06]\n",
      "Best after iteration 35: [2.28736126e-06] [-1.21016023e-06]\n",
      "Best after iteration 36: [2.28736126e-06] [-1.36650251e-06]\n",
      "New best for swarm at iteration 37: [1.27301873e-06] [1.27301873e-06]\n",
      "Best after iteration 37: [1.27301873e-06] [1.27301873e-06]\n",
      "Best after iteration 38: [1.27301873e-06] [-5.55453497e-07]\n",
      "Best after iteration 39: [1.27301873e-06] [-9.27879787e-08]\n",
      "Best after iteration 40: [1.27301873e-06] [4.84619292e-07]\n",
      "New best for swarm at iteration 41: [7.67367398e-08] [7.67367398e-08]\n",
      "Best after iteration 41: [7.67367398e-08] [7.67367398e-08]\n",
      "Best after iteration 42: [7.67367398e-08] [4.6356111e-07]\n",
      "New best for swarm at iteration 43: [2.19373506e-07] [2.19373506e-07]\n",
      "New best for swarm at iteration 43: [1.64543131e-07] [1.64543131e-07]\n",
      "New best for swarm at iteration 43: [8.29514283e-08] [8.29514283e-08]\n",
      "Best after iteration 43: [8.29514283e-08] [8.29514283e-08]\n",
      "New best for swarm at iteration 44: [1.87958006e-07] [1.87958006e-07]\n",
      "Best after iteration 44: [1.87958006e-07] [1.87958006e-07]\n",
      "New best for swarm at iteration 45: [1.33363834e-08] [1.33363834e-08]\n",
      "Best after iteration 45: [1.33363834e-08] [1.33363834e-08]\n",
      "Best after iteration 46: [1.33363834e-08] [-2.78270914e-08]\n",
      "Best after iteration 47: [1.33363834e-08] [-4.33814465e-08]\n",
      "Best after iteration 48: [1.33363834e-08] [-3.44528618e-08]\n",
      "Best after iteration 49: [1.33363834e-08] [-1.61978229e-08]\n",
      "Best after iteration 50: [1.33363834e-08] [8.64669606e-09]\n",
      "New best for swarm at iteration 51: [5.41263805e-10] [5.41263805e-10]\n",
      "Stopping search: Swarm best objective change less than 1e-08\n",
      "O x ótimo é [5.41263805e-10], retornando um valor de f(x) = [5.41263805e-10]\n"
     ]
    }
   ],
   "source": [
    "xopt, fopt = pso(line, lb, ub, debug = 1, f_ieqcons=con )\n",
    "print('O x ótimo é {}, retornando um valor de f(x) = {}' .format(xopt, fopt))"
   ]
  },
  {
   "cell_type": "markdown",
   "metadata": {},
   "source": [
    "### **Um problema mais difícil**"
   ]
  },
  {
   "cell_type": "markdown",
   "metadata": {},
   "source": [
    "Queremos agora resolver o seguinte problema:\n",
    "\n",
    "\\begin{array}{ll}\n",
    "    \\mbox{minimizar}   & x_1^4 - 2x_2x_1^2 + x_1^2 - 2x_1 + 5\\\\\n",
    "    \\mbox{sujeito a} & -(x_1 + 0.25)^2 + 0.75x_2 \\geq 0 \\\\\n",
    "\\end{array}"
   ]
  },
  {
   "cell_type": "code",
   "execution_count": 126,
   "metadata": {},
   "outputs": [
    {
     "name": "stdout",
     "output_type": "stream",
     "text": [
      "Single constraint function given in f_ieqcons\n",
      "Best after iteration 1: [-0.26881316  0.37233954] 5.6999342503859545\n",
      "Best after iteration 2: [-0.26881316  0.37233954] 5.6999342503859545\n",
      "Best after iteration 3: [-0.26881316  0.37233954] 5.6999342503859545\n",
      "Best after iteration 4: [-0.26881316  0.37233954] 5.6999342503859545\n",
      "Best after iteration 5: [-0.26881316  0.37233954] 5.6999342503859545\n",
      "Best after iteration 6: [-0.26881316  0.37233954] 5.6999342503859545\n",
      "Best after iteration 7: [-0.26881316  0.37233954] 5.6999342503859545\n",
      "New best for swarm at iteration 8: [0.40206887 0.6958766 ] 4.6429096781095165\n",
      "Best after iteration 8: [0.40206887 0.6958766 ] 4.6429096781095165\n",
      "Best after iteration 9: [0.40206887 0.6958766 ] 4.6429096781095165\n",
      "New best for swarm at iteration 10: [0.51163937 0.84367615] 4.577105237060527\n",
      "Best after iteration 10: [0.51163937 0.84367615] 4.577105237060527\n",
      "Best after iteration 11: [0.51163937 0.84367615] 4.577105237060527\n",
      "Best after iteration 12: [0.51163937 0.84367615] 4.577105237060527\n",
      "New best for swarm at iteration 13: [0.53427331 0.85354296] 4.5396332580584815\n",
      "New best for swarm at iteration 13: [0.50612481 0.79108319] 4.5300530347139905\n",
      "Best after iteration 13: [0.50612481 0.79108319] 4.5300530347139905\n",
      "Best after iteration 14: [0.50612481 0.79108319] 4.5300530347139905\n",
      "New best for swarm at iteration 15: [0.49719465 0.74634482] 4.501956261909134\n",
      "Best after iteration 15: [0.49719465 0.74634482] 4.501956261909134\n",
      "Best after iteration 16: [0.49719465 0.74634482] 4.501956261909134\n",
      "Best after iteration 17: [0.49719465 0.74634482] 4.501956261909134\n",
      "Best after iteration 18: [0.49719465 0.74634482] 4.501956261909134\n",
      "Best after iteration 19: [0.49719465 0.74634482] 4.501956261909134\n",
      "New best for swarm at iteration 20: [0.49648778 0.74388347] 4.500914765819487\n",
      "Best after iteration 20: [0.49648778 0.74388347] 4.500914765819487\n",
      "Best after iteration 21: [0.49648778 0.74388347] 4.500914765819487\n",
      "Best after iteration 22: [0.49648778 0.74388347] 4.500914765819487\n",
      "New best for swarm at iteration 23: [0.50361054 0.75734267] 4.500135414318135\n",
      "Best after iteration 23: [0.50361054 0.75734267] 4.500135414318135\n",
      "Best after iteration 24: [0.50361054 0.75734267] 4.500135414318135\n",
      "Best after iteration 25: [0.50361054 0.75734267] 4.500135414318135\n",
      "Best after iteration 26: [0.50361054 0.75734267] 4.500135414318135\n",
      "Best after iteration 27: [0.50361054 0.75734267] 4.500135414318135\n",
      "Best after iteration 28: [0.50361054 0.75734267] 4.500135414318135\n",
      "Best after iteration 29: [0.50361054 0.75734267] 4.500135414318135\n",
      "Best after iteration 30: [0.50361054 0.75734267] 4.500135414318135\n",
      "Best after iteration 31: [0.50361054 0.75734267] 4.500135414318135\n",
      "Best after iteration 32: [0.50361054 0.75734267] 4.500135414318135\n",
      "New best for swarm at iteration 33: [0.50374261 0.75751855] 4.500047471207414\n",
      "Best after iteration 33: [0.50374261 0.75751855] 4.500047471207414\n",
      "Best after iteration 34: [0.50374261 0.75751855] 4.500047471207414\n",
      "New best for swarm at iteration 35: [0.50382449 0.75767793] 4.500043683466133\n",
      "Best after iteration 35: [0.50382449 0.75767793] 4.500043683466133\n",
      "Best after iteration 36: [0.50382449 0.75767793] 4.500043683466133\n",
      "Best after iteration 37: [0.50382449 0.75767793] 4.500043683466133\n",
      "Best after iteration 38: [0.50382449 0.75767793] 4.500043683466133\n",
      "New best for swarm at iteration 39: [0.50382775 0.75767926] 4.500038483227617\n",
      "Best after iteration 39: [0.50382775 0.75767926] 4.500038483227617\n",
      "New best for swarm at iteration 40: [0.50383551 0.75769108] 4.500034818557288\n",
      "Best after iteration 40: [0.50383551 0.75769108] 4.500034818557288\n",
      "Best after iteration 41: [0.50383551 0.75769108] 4.500034818557288\n",
      "Best after iteration 42: [0.50383551 0.75769108] 4.500034818557288\n",
      "Best after iteration 43: [0.50383551 0.75769108] 4.500034818557288\n",
      "Best after iteration 44: [0.50383551 0.75769108] 4.500034818557288\n",
      "New best for swarm at iteration 45: [0.50383488 0.75768957] 4.500034563920853\n",
      "Best after iteration 45: [0.50383488 0.75768957] 4.500034563920853\n",
      "New best for swarm at iteration 46: [0.50383111 0.75768192] 4.50003440288841\n",
      "Best after iteration 46: [0.50383111 0.75768192] 4.50003440288841\n",
      "Best after iteration 47: [0.50383111 0.75768192] 4.50003440288841\n",
      "Best after iteration 48: [0.50383111 0.75768192] 4.50003440288841\n",
      "Best after iteration 49: [0.50383111 0.75768192] 4.50003440288841\n",
      "Best after iteration 50: [0.50383111 0.75768192] 4.50003440288841\n",
      "Best after iteration 51: [0.50383111 0.75768192] 4.50003440288841\n",
      "Best after iteration 52: [0.50383111 0.75768192] 4.50003440288841\n",
      "Best after iteration 53: [0.50383111 0.75768192] 4.50003440288841\n",
      "Best after iteration 54: [0.50383111 0.75768192] 4.50003440288841\n",
      "Best after iteration 55: [0.50383111 0.75768192] 4.50003440288841\n",
      "Best after iteration 56: [0.50383111 0.75768192] 4.50003440288841\n",
      "Best after iteration 57: [0.50383111 0.75768192] 4.50003440288841\n",
      "Best after iteration 58: [0.50383111 0.75768192] 4.50003440288841\n",
      "Best after iteration 59: [0.50383111 0.75768192] 4.50003440288841\n",
      "New best for swarm at iteration 60: [0.50383116 0.75768192] 4.50003431390264\n",
      "Best after iteration 60: [0.50383116 0.75768192] 4.50003431390264\n",
      "Best after iteration 61: [0.50383116 0.75768192] 4.50003431390264\n",
      "New best for swarm at iteration 62: [0.50383223 0.75768404] 4.500034310978086\n",
      "Stopping search: Swarm best objective change less than 1e-08\n"
     ]
    }
   ],
   "source": [
    "def dificil(x):\n",
    "    x1 = x[0]\n",
    "    x2 = x[1]\n",
    "    return x1**4 - 2*x2*x1**2 + x2**2 + x1**2 - 2*x1 + 5\n",
    "\n",
    "def con(x):\n",
    "    x1 = x[0]\n",
    "    x2 = x[1]\n",
    "    return [-(x1 + 0.25)**2 + 0.75*x2]\n",
    "\n",
    "lb = [-20, -20]\n",
    "ub = [20, 20]\n",
    "\n",
    "xopt, fopt = pso(dificil, lb, ub, f_ieqcons=con, debug = 1)\n",
    "\n",
    "# Optimum should be around x=[0.5, 0.76] with dificil(x)=4.5 and con(x)=0"
   ]
  },
  {
   "cell_type": "code",
   "execution_count": 127,
   "metadata": {},
   "outputs": [
    {
     "name": "stdout",
     "output_type": "stream",
     "text": [
      "O x ótimo é [0.50383223 0.75768404], retornando um valor de f(x) = 4.500034310978086\n"
     ]
    }
   ],
   "source": [
    "print('O x ótimo é {}, retornando um valor de f(x) = {}' .format(xopt, fopt))"
   ]
  },
  {
   "cell_type": "markdown",
   "metadata": {},
   "source": [
    "### **Um problema divertido**"
   ]
  },
  {
   "cell_type": "markdown",
   "metadata": {},
   "source": [
    "Suponha que dado um quadrado de lado unitário, queira se encontrar o ponto tal que a soma das distâncias pros vértices do quadrado seja mínima, qual é a coordenada desse ponto?"
   ]
  },
  {
   "cell_type": "markdown",
   "metadata": {},
   "source": [
    "<img src=\"code.png\" alt=\"Drawing\" style=\"width: 400px;\"/>"
   ]
  },
  {
   "cell_type": "markdown",
   "metadata": {},
   "source": [
    "As coordenadas dos vértices são $P_1 = (0,0)$, $P_2 = (0,1)$, $P_3 = (1,0)$ e $P_4 = (1,1)$"
   ]
  },
  {
   "cell_type": "markdown",
   "metadata": {},
   "source": [
    "Logo, usando que a coordenada do ponto ótimo é $P^\\star = (x,y)$, tem-se nossa função objetivo:"
   ]
  },
  {
   "cell_type": "markdown",
   "metadata": {},
   "source": [
    "$$\n",
    "J = \\sqrt{(x-0)^2 + (y-0)^2} + \\sqrt{(x-0)^2 + (y-1)^2} + \\sqrt{(x-1)^2 + (y-0)^2} + \\sqrt{(x-1)^2 + (y-1)^2}\n",
    "$$"
   ]
  },
  {
   "cell_type": "markdown",
   "metadata": {},
   "source": [
    "Vamo pro codigo!"
   ]
  },
  {
   "cell_type": "code",
   "execution_count": 128,
   "metadata": {},
   "outputs": [
    {
     "name": "stdout",
     "output_type": "stream",
     "text": [
      "No constraints given.\n",
      "New best for swarm at iteration 1: [0.51095036 0.35130995] 2.8603627032018224\n",
      "Best after iteration 1: [0.51095036 0.35130995] 2.8603627032018224\n",
      "Best after iteration 2: [0.51095036 0.35130995] 2.8603627032018224\n",
      "Best after iteration 3: [0.51095036 0.35130995] 2.8603627032018224\n",
      "Best after iteration 4: [0.51095036 0.35130995] 2.8603627032018224\n",
      "Best after iteration 5: [0.51095036 0.35130995] 2.8603627032018224\n",
      "New best for swarm at iteration 6: [0.52320564 0.51338919] 2.8294420722176583\n",
      "Best after iteration 6: [0.52320564 0.51338919] 2.8294420722176583\n",
      "Best after iteration 7: [0.52320564 0.51338919] 2.8294420722176583\n",
      "Best after iteration 8: [0.52320564 0.51338919] 2.8294420722176583\n",
      "Best after iteration 9: [0.52320564 0.51338919] 2.8294420722176583\n",
      "Best after iteration 10: [0.52320564 0.51338919] 2.8294420722176583\n",
      "Best after iteration 11: [0.52320564 0.51338919] 2.8294420722176583\n",
      "Best after iteration 12: [0.52320564 0.51338919] 2.8294420722176583\n",
      "New best for swarm at iteration 13: [0.50738877 0.50160493] 2.8285079774301867\n",
      "Best after iteration 13: [0.50738877 0.50160493] 2.8285079774301867\n",
      "Best after iteration 14: [0.50738877 0.50160493] 2.8285079774301867\n",
      "New best for swarm at iteration 15: [0.49947123 0.50618619] 2.828481642133495\n",
      "Best after iteration 15: [0.49947123 0.50618619] 2.828481642133495\n",
      "Best after iteration 16: [0.49947123 0.50618619] 2.828481642133495\n",
      "Best after iteration 17: [0.49947123 0.50618619] 2.828481642133495\n",
      "New best for swarm at iteration 18: [0.49883883 0.49932072] 2.8284296841185395\n",
      "Best after iteration 18: [0.49883883 0.49932072] 2.8284296841185395\n",
      "New best for swarm at iteration 19: [0.50036632 0.50113546] 2.8284291378397954\n",
      "Best after iteration 19: [0.50036632 0.50113546] 2.8284291378397954\n",
      "Best after iteration 20: [0.50036632 0.50113546] 2.8284291378397954\n",
      "New best for swarm at iteration 21: [0.49960212 0.50002332] 2.828427349396864\n",
      "Best after iteration 21: [0.49960212 0.50002332] 2.828427349396864\n",
      "Best after iteration 22: [0.49960212 0.50002332] 2.828427349396864\n",
      "Best after iteration 23: [0.49960212 0.50002332] 2.828427349396864\n",
      "New best for swarm at iteration 24: [0.49998367 0.49963474] 2.8284273138001677\n",
      "Best after iteration 24: [0.49998367 0.49963474] 2.8284273138001677\n",
      "Best after iteration 25: [0.49998367 0.49963474] 2.8284273138001677\n",
      "Best after iteration 26: [0.49998367 0.49963474] 2.8284273138001677\n",
      "New best for swarm at iteration 27: [0.50020153 0.4999022 ] 2.8284271957131053\n",
      "Best after iteration 27: [0.50020153 0.4999022 ] 2.8284271957131053\n",
      "New best for swarm at iteration 28: [0.50021178 0.50001574] 2.8284271885239276\n",
      "Stopping search: Swarm best objective change less than 1e-08\n"
     ]
    }
   ],
   "source": [
    "def quadrado(x):\n",
    "    x1 = x[0]\n",
    "    x2 = x[1]\n",
    "    return np.sqrt((x1-0)**2 + (x2-0)**2) + np.sqrt((x1-0)**2 + (x2-1)**2) + np.sqrt((x1-1)**2 + (x2-0)**2) + np.sqrt((x1-1)**2 + (x2-1)**2)\n",
    "\n",
    "lb = [-20, -20]\n",
    "ub = [20, 20]\n",
    "\n",
    "xopt, fopt = pso(quadrado, lb, ub, debug = 1)"
   ]
  },
  {
   "cell_type": "code",
   "execution_count": 129,
   "metadata": {},
   "outputs": [
    {
     "name": "stdout",
     "output_type": "stream",
     "text": [
      "O ponto ótimo é [0.50021178 0.50001574], retornando um valor de J = 2.8284271885239276\n"
     ]
    }
   ],
   "source": [
    "print('O ponto ótimo é {}, retornando um valor de J = {}' .format(xopt, fopt))"
   ]
  }
 ],
 "metadata": {
  "kernelspec": {
   "display_name": "Python 3.8.2 64-bit",
   "language": "python",
   "name": "python38264bit0bb2bc0169cc48179e7258ed083f9776"
  },
  "language_info": {
   "codemirror_mode": {
    "name": "ipython",
    "version": 3
   },
   "file_extension": ".py",
   "mimetype": "text/x-python",
   "name": "python",
   "nbconvert_exporter": "python",
   "pygments_lexer": "ipython3",
   "version": "3.8.2"
  }
 },
 "nbformat": 4,
 "nbformat_minor": 4
}
